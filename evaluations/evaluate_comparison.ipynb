{
 "cells": [
  {
   "cell_type": "code",
   "execution_count": 1,
   "metadata": {},
   "outputs": [],
   "source": [
    "import pandas as pd\n",
    "import json\n",
    "from opinion_overlap_eval import OpinionEval"
   ]
  },
  {
   "cell_type": "code",
   "execution_count": 24,
   "metadata": {},
   "outputs": [],
   "source": [
    "def unmatched_elecat(stx):\n",
    "    category_subs = {'general': 'overall', \n",
    "                 'style_options': \"styles and options\",\n",
    "                 'design_features': 'features',\n",
    "                 'operation_performance': 'performance'}\n",
    "    reverse_sub = {v :k for k,v in category_subs.items()}\n",
    "    \n",
    "    sansthecat = stx.split(' ')[1:]\n",
    "    # print(stx, sansthecat)\n",
    "    if sansthecat[0] in ['and', 'or', 'the']:\n",
    "        sansthecat = sansthecat[1:]\n",
    "\n",
    "    ent, cat = None, None\n",
    "    \n",
    "    if len(sansthecat) <= 1:\n",
    "        ent = ''.join(sansthecat)\n",
    "        cat = 'general'\n",
    "    else:\n",
    "        ent = sansthecat[0]\n",
    "        cat = ' '.join(sansthecat[1:])\n",
    "        if cat in reverse_sub.keys():\n",
    "            cat = reverse_sub[cat]\n",
    "            # print(ent, cat)\n",
    "    return [ent, cat]\n",
    "\n",
    "def entity_category_mvp(stx):\n",
    "    entcat = stx.split(' ')\n",
    "    if len(entcat) != 2:\n",
    "        category = 'general'\n",
    "        entity = entcat[0]\n",
    "    else:\n",
    "        entity = entcat[0]\n",
    "        category = entcat[1]\n",
    "    return [entity, category]"
   ]
  },
  {
   "cell_type": "code",
   "execution_count": 2,
   "metadata": {},
   "outputs": [],
   "source": [
    "# colname = ['id', 'target_entity', 'aspect_category','aspect_term', 'sentiment_polarity', 'sentiment_expression']\n",
    "\n",
    "colname = ['id', 'aspect_term', 'sentiment_polarity', 'sentiment_expression']"
   ]
  },
  {
   "cell_type": "code",
   "execution_count": 31,
   "metadata": {},
   "outputs": [],
   "source": [
    "RES = \"MVP\" #GEN_SCL_NAT\n",
    "result_list = []\n",
    "colname = ['target_entity', 'aspect_category','aspect_term', 'sentiment_polarity', 'sentiment_expression']\n",
    "mapping_funct = entity_category_mvp if RES == \"MVP\" else unmatched_elecat\n",
    "with open('../ontology_experiments/results/final_result/acos-comparison/ours24_mvp.json') as f:\n",
    "    pred_res = json.load(f)\n",
    "    for rec in pred_res:\n",
    "        pred1 = [{colname[i]:v for i, v in enumerate(mapping_funct(val[0])+val[1:])} for val in rec['pred']]\n",
    "        gold1 = [{colname[i]:v for i, v in enumerate(mapping_funct(val[0])+val[1:])} for val in rec['gold']]\n",
    "        # # pred1 = [{colname[i]:v for i, v in enumerate(val[1:])} for val in rec['pred']]\n",
    "        # # gold1 = [{colname[i]:v for i, v in enumerate(val[1:])} for val in rec['gold']]\n",
    "        result_list.append({\n",
    "            'gold': gold1,\n",
    "            'pred': pred1\n",
    "        })\n",
    "        "
   ]
  },
  {
   "cell_type": "code",
   "execution_count": 32,
   "metadata": {},
   "outputs": [
    {
     "data": {
      "text/plain": [
       "{'gold': [{'target_entity': 'book',\n",
       "   'aspect_category': 'general',\n",
       "   'aspect_term': 'book',\n",
       "   'sentiment_polarity': 'great',\n",
       "   'sentiment_expression': 'really like'},\n",
       "  {'target_entity': 'content',\n",
       "   'aspect_category': 'plot',\n",
       "   'aspect_term': 'ending',\n",
       "   'sentiment_polarity': 'bad',\n",
       "   'sentiment_expression': 'not be particularly satisfied'}],\n",
       " 'pred': [{'target_entity': 'restaurant',\n",
       "   'aspect_category': 'general',\n",
       "   'aspect_term': 'null',\n",
       "   'sentiment_polarity': 'great',\n",
       "   'sentiment_expression': 'like'},\n",
       "  {'target_entity': 'book',\n",
       "   'aspect_category': 'design_features',\n",
       "   'aspect_term': 'book',\n",
       "   'sentiment_polarity': 'bad',\n",
       "   'sentiment_expression': 'satisfied'}]}"
      ]
     },
     "execution_count": 32,
     "metadata": {},
     "output_type": "execute_result"
    }
   ],
   "source": [
    "result_list[1]"
   ]
  },
  {
   "cell_type": "code",
   "execution_count": 33,
   "metadata": {},
   "outputs": [
    {
     "name": "stdout",
     "output_type": "stream",
     "text": [
      "precision: 0.660472972972973, recall: 0.7294776119402985, f1-score: 0.6932624113475179\n"
     ]
    }
   ],
   "source": [
    "TP = 0\n",
    "TOT_PRED = 0\n",
    "TOT_GOLD = 0\n",
    "opeval = OpinionEval(colname)\n",
    "for i in range(len(result_list)):\n",
    "    gold_arx = result_list[i]['gold']\n",
    "    pred_arx = result_list[i]['pred']\n",
    "    tp, _, _ = opeval.one_input_pred_metrics(gold_arx, pred_arx)\n",
    "    TP += tp\n",
    "    TOT_PRED += len(pred_arx)\n",
    "    TOT_GOLD += len(gold_arx)\n",
    "\n",
    "precision = TP/TOT_PRED\n",
    "recall = TP/TOT_GOLD\n",
    "f1_score = 2 * precision * recall / (precision + recall)\n",
    " \n",
    "print(f'precision: {precision}, recall: {recall}, f1-score: {f1_score}')"
   ]
  },
  {
   "cell_type": "code",
   "execution_count": 34,
   "metadata": {},
   "outputs": [
    {
     "data": {
      "text/plain": [
       "'../on'"
      ]
     },
     "execution_count": 34,
     "metadata": {},
     "output_type": "execute_result"
    }
   ],
   "source": [
    "import os\n",
    "'../on'"
   ]
  },
  {
   "cell_type": "code",
   "execution_count": 3,
   "metadata": {},
   "outputs": [],
   "source": [
    "opeval = OpinionEval(colname)\n",
    "res_df = pd.read_csv('../ontology_experiments/results/final_result/gpt-4o/nlprompt/csv/eg_desc_format.csv')\n",
    "gold_df = pd.read_csv('../ontology_experiments/results/final_result/gold_annotations_fin_3.csv')\n",
    "replace_dict = {'sentiment_polarity': {'POS':'positive', 'NEG':'negative', 'NEU':'neutral'}}\n",
    "gold_df = gold_df.replace(replace_dict).fillna('NULL')\n",
    "res_df = res_df.fillna('NULL')"
   ]
  },
  {
   "cell_type": "code",
   "execution_count": 4,
   "metadata": {},
   "outputs": [],
   "source": [
    "gdict = opeval.get_all_gold_rows(gold_df, 'b-2')\n",
    "pdict = opeval.get_predicted_rows(res_df, 'b-2')"
   ]
  },
  {
   "cell_type": "code",
   "execution_count": 5,
   "metadata": {},
   "outputs": [
    {
     "name": "stdout",
     "output_type": "stream",
     "text": [
      "[{'id': 'b-2', 'aspect_term': 'book', 'sentiment_polarity': 'positive', 'sentiment_expression': 'really like'}]\n",
      "[{'id': 'b-2', 'aspect_term': 'it', 'sentiment_polarity': 'positive', 'sentiment_expression': 'really like'}]\n"
     ]
    }
   ],
   "source": [
    "print(gdict)\n",
    "print(pdict)"
   ]
  },
  {
   "cell_type": "code",
   "execution_count": 6,
   "metadata": {},
   "outputs": [
    {
     "data": {
      "text/plain": [
       "{'precision': 0.7524509803921566,\n",
       " 'recall': 0.7415458937198065,\n",
       " 'f1': 0.746958637469586}"
      ]
     },
     "execution_count": 6,
     "metadata": {},
     "output_type": "execute_result"
    }
   ],
   "source": [
    "opeval.eval_opinions(gold_df, res_df)"
   ]
  },
  {
   "cell_type": "code",
   "execution_count": null,
   "metadata": {},
   "outputs": [],
   "source": []
  }
 ],
 "metadata": {
  "kernelspec": {
   "display_name": "torch_learn",
   "language": "python",
   "name": "python3"
  },
  "language_info": {
   "codemirror_mode": {
    "name": "ipython",
    "version": 3
   },
   "file_extension": ".py",
   "mimetype": "text/x-python",
   "name": "python",
   "nbconvert_exporter": "python",
   "pygments_lexer": "ipython3",
   "version": "3.10.13"
  }
 },
 "nbformat": 4,
 "nbformat_minor": 2
}
